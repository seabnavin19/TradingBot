{
  "nbformat": 4,
  "nbformat_minor": 0,
  "metadata": {
    "colab": {
      "provenance": [],
      "authorship_tag": "ABX9TyO5/Wgvv7WaDC3jJoj9nUdr",
      "include_colab_link": true
    },
    "kernelspec": {
      "name": "python3",
      "display_name": "Python 3"
    },
    "language_info": {
      "name": "python"
    }
  },
  "cells": [
    {
      "cell_type": "markdown",
      "metadata": {
        "id": "view-in-github",
        "colab_type": "text"
      },
      "source": [
        "<a href=\"https://colab.research.google.com/github/seabnavin19/TradingBot/blob/main/all_trading_strategies.ipynb\" target=\"_parent\"><img src=\"https://colab.research.google.com/assets/colab-badge.svg\" alt=\"Open In Colab\"/></a>"
      ]
    },
    {
      "cell_type": "code",
      "execution_count": null,
      "metadata": {
        "colab": {
          "base_uri": "https://localhost:8080/"
        },
        "id": "x5stk5Nbnswu",
        "outputId": "03404ee6-d70b-4da5-fc45-0c6aeebbbaed"
      },
      "outputs": [
        {
          "output_type": "stream",
          "name": "stdout",
          "text": [
            "Collecting alpaca_trade_api\n",
            "  Downloading alpaca_trade_api-2.0.0-py3-none-any.whl (33 kB)\n",
            "Requirement already satisfied: urllib3<2,>1.24 in /usr/local/lib/python3.7/dist-packages (from alpaca_trade_api) (1.24.3)\n",
            "Collecting websocket-client<2,>=0.56.0\n",
            "  Downloading websocket_client-1.3.2-py3-none-any.whl (54 kB)\n",
            "\u001b[K     |████████████████████████████████| 54 kB 2.9 MB/s \n",
            "\u001b[?25hCollecting websockets<11,>=9.0\n",
            "  Downloading websockets-10.3-cp37-cp37m-manylinux_2_5_x86_64.manylinux1_x86_64.manylinux_2_12_x86_64.manylinux2010_x86_64.whl (112 kB)\n",
            "\u001b[K     |████████████████████████████████| 112 kB 10.5 MB/s \n",
            "\u001b[?25hCollecting aiohttp==3.8.1\n",
            "  Downloading aiohttp-3.8.1-cp37-cp37m-manylinux_2_5_x86_64.manylinux1_x86_64.manylinux_2_12_x86_64.manylinux2010_x86_64.whl (1.1 MB)\n",
            "\u001b[K     |████████████████████████████████| 1.1 MB 52.7 MB/s \n",
            "\u001b[?25hCollecting deprecation==2.1.0\n",
            "  Downloading deprecation-2.1.0-py2.py3-none-any.whl (11 kB)\n",
            "Requirement already satisfied: requests<3,>2 in /usr/local/lib/python3.7/dist-packages (from alpaca_trade_api) (2.23.0)\n",
            "Requirement already satisfied: pandas>=0.18.1 in /usr/local/lib/python3.7/dist-packages (from alpaca_trade_api) (1.3.5)\n",
            "Collecting PyYAML==6.0\n",
            "  Downloading PyYAML-6.0-cp37-cp37m-manylinux_2_5_x86_64.manylinux1_x86_64.manylinux_2_12_x86_64.manylinux2010_x86_64.whl (596 kB)\n",
            "\u001b[K     |████████████████████████████████| 596 kB 63.1 MB/s \n",
            "\u001b[?25hRequirement already satisfied: msgpack==1.0.3 in /usr/local/lib/python3.7/dist-packages (from alpaca_trade_api) (1.0.3)\n",
            "Requirement already satisfied: numpy>=1.11.1 in /usr/local/lib/python3.7/dist-packages (from alpaca_trade_api) (1.21.6)\n",
            "Requirement already satisfied: attrs>=17.3.0 in /usr/local/lib/python3.7/dist-packages (from aiohttp==3.8.1->alpaca_trade_api) (21.4.0)\n",
            "Collecting frozenlist>=1.1.1\n",
            "  Downloading frozenlist-1.3.0-cp37-cp37m-manylinux_2_5_x86_64.manylinux1_x86_64.manylinux_2_17_x86_64.manylinux2014_x86_64.whl (144 kB)\n",
            "\u001b[K     |████████████████████████████████| 144 kB 68.0 MB/s \n",
            "\u001b[?25hRequirement already satisfied: charset-normalizer<3.0,>=2.0 in /usr/local/lib/python3.7/dist-packages (from aiohttp==3.8.1->alpaca_trade_api) (2.0.12)\n",
            "Requirement already satisfied: typing-extensions>=3.7.4 in /usr/local/lib/python3.7/dist-packages (from aiohttp==3.8.1->alpaca_trade_api) (4.1.1)\n",
            "Collecting aiosignal>=1.1.2\n",
            "  Downloading aiosignal-1.2.0-py3-none-any.whl (8.2 kB)\n",
            "Collecting multidict<7.0,>=4.5\n",
            "  Downloading multidict-6.0.2-cp37-cp37m-manylinux_2_17_x86_64.manylinux2014_x86_64.whl (94 kB)\n",
            "\u001b[K     |████████████████████████████████| 94 kB 3.2 MB/s \n",
            "\u001b[?25hCollecting yarl<2.0,>=1.0\n",
            "  Downloading yarl-1.7.2-cp37-cp37m-manylinux_2_5_x86_64.manylinux1_x86_64.manylinux_2_12_x86_64.manylinux2010_x86_64.whl (271 kB)\n",
            "\u001b[K     |████████████████████████████████| 271 kB 68.8 MB/s \n",
            "\u001b[?25hCollecting asynctest==0.13.0\n",
            "  Downloading asynctest-0.13.0-py3-none-any.whl (26 kB)\n",
            "Collecting async-timeout<5.0,>=4.0.0a3\n",
            "  Downloading async_timeout-4.0.2-py3-none-any.whl (5.8 kB)\n",
            "Requirement already satisfied: packaging in /usr/local/lib/python3.7/dist-packages (from deprecation==2.1.0->alpaca_trade_api) (21.3)\n",
            "Requirement already satisfied: pytz>=2017.3 in /usr/local/lib/python3.7/dist-packages (from pandas>=0.18.1->alpaca_trade_api) (2022.1)\n",
            "Requirement already satisfied: python-dateutil>=2.7.3 in /usr/local/lib/python3.7/dist-packages (from pandas>=0.18.1->alpaca_trade_api) (2.8.2)\n",
            "Requirement already satisfied: six>=1.5 in /usr/local/lib/python3.7/dist-packages (from python-dateutil>=2.7.3->pandas>=0.18.1->alpaca_trade_api) (1.15.0)\n",
            "Requirement already satisfied: chardet<4,>=3.0.2 in /usr/local/lib/python3.7/dist-packages (from requests<3,>2->alpaca_trade_api) (3.0.4)\n",
            "Requirement already satisfied: idna<3,>=2.5 in /usr/local/lib/python3.7/dist-packages (from requests<3,>2->alpaca_trade_api) (2.10)\n",
            "Requirement already satisfied: certifi>=2017.4.17 in /usr/local/lib/python3.7/dist-packages (from requests<3,>2->alpaca_trade_api) (2021.10.8)\n",
            "Requirement already satisfied: pyparsing!=3.0.5,>=2.0.2 in /usr/local/lib/python3.7/dist-packages (from packaging->deprecation==2.1.0->alpaca_trade_api) (3.0.8)\n",
            "Installing collected packages: multidict, frozenlist, yarl, asynctest, async-timeout, aiosignal, websockets, websocket-client, PyYAML, deprecation, aiohttp, alpaca-trade-api\n",
            "  Attempting uninstall: PyYAML\n",
            "    Found existing installation: PyYAML 3.13\n",
            "    Uninstalling PyYAML-3.13:\n",
            "      Successfully uninstalled PyYAML-3.13\n",
            "Successfully installed PyYAML-6.0 aiohttp-3.8.1 aiosignal-1.2.0 alpaca-trade-api-2.0.0 async-timeout-4.0.2 asynctest-0.13.0 deprecation-2.1.0 frozenlist-1.3.0 multidict-6.0.2 websocket-client-1.3.2 websockets-10.3 yarl-1.7.2\n",
            "Collecting talib-binary\n",
            "  Downloading talib_binary-0.4.19-cp37-cp37m-manylinux1_x86_64.whl (2.4 MB)\n",
            "\u001b[K     |████████████████████████████████| 2.4 MB 5.1 MB/s \n",
            "\u001b[?25hRequirement already satisfied: numpy in /usr/local/lib/python3.7/dist-packages (from talib-binary) (1.21.6)\n",
            "Installing collected packages: talib-binary\n",
            "Successfully installed talib-binary-0.4.19\n"
          ]
        }
      ],
      "source": [
        "!pip install alpaca_trade_api\n",
        "!pip install talib-binary"
      ]
    },
    {
      "cell_type": "code",
      "source": [
        "import alpaca_trade_api as tradeapi\n",
        "from alpaca_trade_api.rest import REST, TimeFrame, TimeFrameUnit\n",
        "import numpy as np\n",
        "import time\n",
        "import talib"
      ],
      "metadata": {
        "id": "FsYFc8D5n2Lq"
      },
      "execution_count": null,
      "outputs": []
    },
    {
      "cell_type": "code",
      "source": [
        "import alpaca_trade_api as tradeapi\n",
        "import numpy as np\n",
        "import time\n",
        "SEC_KEY = 'ZaCsrPS7n7fkhK5VRf8CC0nQaK53cRNIf8KIQiTC'\n",
        "PUB_KEY = 'PKETYS6545R9FHTKBPG5'\n",
        "BASE_URL = 'https://paper-api.alpaca.markets'\n",
        "api = tradeapi.REST(key_id= PUB_KEY, secret_key=SEC_KEY, base_url=BASE_URL)"
      ],
      "metadata": {
        "id": "mwV9Mlkloq1T"
      },
      "execution_count": null,
      "outputs": []
    },
    {
      "cell_type": "code",
      "source": [
        "\n",
        "'''\n",
        "    This is a trading script that you can run in the cloud and customize with your own trading algorithms\n",
        "    The example uses the Alpaca Trading API, which is a free algorithmic trading platform that allows for paper trading\n",
        "    You can setup a free account on Alpaca here: https://alpaca.markets/\n",
        "    Alternatively, edit the getMarketData, Buy, and Sell functions to connect your own APIS\n",
        "'''\n",
        "\n",
        "def get_data(num):\n",
        "    # Returns a an numpy array of the closing prices of the past 5 minutes\n",
        "    market_data=api.get_bars(symb, TimeFrame.Minute, limit=num, adjustment='raw').df\n",
        "    \n",
        "    close_list = market_data.close\n",
        "    \n",
        "    return close_list.values\n",
        "\n",
        "def buy(q, s): # Returns nothing, makes call to buy stock\n",
        "    api.submit_order(\n",
        "        symbol=s,\n",
        "        qty=q,\n",
        "        side='buy',\n",
        "        type='market',\n",
        "        time_in_force='gtc'\n",
        "    )\n",
        "def sell(q, s): # Returns nothing, makes call to sell stock\n",
        "    api.submit_order(\n",
        "        symbol=s,\n",
        "        qty=q,\n",
        "        side='sell',\n",
        "        type='market',\n",
        "        time_in_force='gtc'\n",
        "    )\n",
        "\n",
        "symb = \"TSLA\" # Ticker of stock you want to trade\n",
        "pos_held = False"
      ],
      "metadata": {
        "id": "XzZCBpSTotc6"
      },
      "execution_count": null,
      "outputs": []
    },
    {
      "cell_type": "code",
      "source": [
        "\n",
        "RSI_PERIOD = 14\n",
        "RSI_OVERBOUGHT =70\n",
        "RSI_OVERSOLD = 30\n",
        "\n"
      ],
      "metadata": {
        "id": "dFq9xyzxowLz"
      },
      "execution_count": null,
      "outputs": []
    },
    {
      "cell_type": "code",
      "source": [
        "data=get_data(100)\n",
        "RSI_Strategy(data)"
      ],
      "metadata": {
        "id": "pLagSxRSo11L",
        "colab": {
          "base_uri": "https://localhost:8080/",
          "height": 330
        },
        "outputId": "f679cc1d-639d-475b-df44-a0e9d1d057d1"
      },
      "execution_count": null,
      "outputs": [
        {
          "output_type": "stream",
          "name": "stdout",
          "text": [
            "[        nan         nan         nan         nan         nan         nan\n",
            "         nan         nan         nan         nan         nan         nan\n",
            "         nan         nan 62.6933576  64.4358444  51.48689051 51.48689051\n",
            " 57.43862354 63.26305221 66.549548   70.14491345 70.77634608 67.53506515\n",
            " 68.35508955 63.35200224 57.78504904 66.44519477 68.74673087 68.74673087\n",
            " 70.9426298  63.55232618 66.17725231 69.67077198 64.95060859 66.75730074\n",
            " 67.3774881  68.49165331 61.13293859 60.88831941 60.88831941 55.95460477\n",
            " 51.9465203  54.96559409 59.16656439 62.24207681 58.84775059 61.46452706\n",
            " 60.34762223 58.62669318 59.7795392  55.22248306 55.27017259 59.78986874\n",
            " 61.9048675  60.53331091 58.44166831 58.44166831 58.77210146 58.83085456\n",
            " 63.97290642 63.97290642 63.97290642 66.76068201 61.53064341 63.11699092\n",
            " 62.26617246 65.85939801 63.07145946 63.27237991 57.54083406 52.33524682\n",
            " 59.72940933 71.45619827 71.45619827 74.0391738  68.40567515 68.53459053\n",
            " 75.44123136 80.07710153 80.41416343 81.70576284 76.28792272 76.28792272\n",
            " 71.41590555 67.21346751 63.81641139 69.6394893  62.93316016 59.73360808\n",
            " 62.32315068 61.81521765 62.28806667 64.55683718 65.75849658 57.73222671\n",
            " 54.13816983 58.02193386 52.09988163 53.69771844]\n"
          ]
        },
        {
          "output_type": "execute_result",
          "data": {
            "text/plain": [
              "'None'"
            ],
            "application/vnd.google.colaboratory.intrinsic+json": {
              "type": "string"
            }
          },
          "metadata": {},
          "execution_count": 85
        }
      ]
    },
    {
      "cell_type": "code",
      "source": [
        "RSI_PERIOD = 14\n",
        "RSI_OVERBOUGHT =70\n",
        "RSI_OVERSOLD = 30\n",
        "import alpaca_trade_api as tradeapi\n",
        "import numpy as np\n",
        "import time\n",
        "SEC_KEY = 'ZaCsrPS7n7fkhK5VRf8CC0nQaK53cRNIf8KIQiTC'\n",
        "PUB_KEY = 'PKETYS6545R9FHTKBPG5'\n",
        "BASE_URL = 'https://paper-api.alpaca.markets'\n",
        "api = tradeapi.REST(key_id= PUB_KEY, secret_key=SEC_KEY, base_url=BASE_URL)\n",
        "\n",
        "def run_main(a,b):\n",
        "  pass\n",
        "\n",
        "\n",
        "def RSI_Strategy( df):\n",
        "    status=\"None\"\n",
        "    # print(\"last close price : {}\".format(close_price))\n",
        "    #The RSI is computable with at least X Candles\n",
        "    if len(df) > RSI_PERIOD:\n",
        "        rsi = talib.RSI(df,RSI_PERIOD)\n",
        "      \n",
        "        last_rsi = rsi[-1]\n",
        " \n",
        "        #Symbol is Overbought\n",
        "        if last_rsi > RSI_OVERBOUGHT:\n",
        "          status=\"Sell\"\n",
        "          sell(1, symb)\n",
        "          \n",
        "        #Symbol is Oversold\n",
        "        elif last_rsi < RSI_OVERSOLD:\n",
        "          status=\"Buy\"\n",
        "          buy(1, symb)\n",
        "          \n",
        "     \n",
        "            \n",
        "    return status\n"
      ],
      "metadata": {
        "colab": {
          "base_uri": "https://localhost:8080/"
        },
        "id": "BRXGfCYCworZ",
        "outputId": "074ecdb9-140b-4a54-d0d5-a6a679dff5eb"
      },
      "execution_count": null,
      "outputs": [
        {
          "output_type": "execute_result",
          "data": {
            "text/plain": [
              "[1015.21,\n",
              " 1014.5,\n",
              " 1013.31,\n",
              " 1014.09,\n",
              " 1014.47,\n",
              " 1014.97,\n",
              " 1017.31,\n",
              " 1016.47,\n",
              " 1016.11,\n",
              " 1016.5,\n",
              " 1016.0,\n",
              " 1015.5,\n",
              " 1016.94,\n",
              " 1018.0,\n",
              " 1018.0,\n",
              " 1018.5,\n",
              " 1016.0,\n",
              " 1016.0,\n",
              " 1017.5,\n",
              " 1019.3,\n",
              " 1020.5,\n",
              " 1022.0,\n",
              " 1022.28,\n",
              " 1021.69,\n",
              " 1022.0,\n",
              " 1021.1,\n",
              " 1020.0,\n",
              " 1023.0,\n",
              " 1024.0,\n",
              " 1024.0,\n",
              " 1024.95,\n",
              " 1023.49,\n",
              " 1024.5,\n",
              " 1026.0,\n",
              " 1025.02,\n",
              " 1025.75,\n",
              " 1026.0,\n",
              " 1026.44,\n",
              " 1025.0,\n",
              " 1024.95,\n",
              " 1024.95,\n",
              " 1024.0,\n",
              " 1023.16,\n",
              " 1023.89,\n",
              " 1025.0,\n",
              " 1025.9,\n",
              " 1025.26,\n",
              " 1026.0,\n",
              " 1025.8,\n",
              " 1025.5,\n",
              " 1025.78,\n",
              " 1025.01,\n",
              " 1025.02,\n",
              " 1026.0,\n",
              " 1026.5,\n",
              " 1026.3,\n",
              " 1026.0,\n",
              " 1026.0,\n",
              " 1026.06,\n",
              " 1026.07,\n",
              " 1027.0,\n",
              " 1027.0,\n",
              " 1027.0,\n",
              " 1027.5,\n",
              " 1026.99,\n",
              " 1027.25,\n",
              " 1027.17,\n",
              " 1027.75,\n",
              " 1027.5,\n",
              " 1027.53,\n",
              " 1027.02,\n",
              " 1026.5,\n",
              " 1027.48,\n",
              " 1029.89,\n",
              " 1029.89,\n",
              " 1030.6,\n",
              " 1030.0,\n",
              " 1030.03,\n",
              " 1031.95,\n",
              " 1033.84,\n",
              " 1034.0,\n",
              " 1034.62,\n",
              " 1034.0,\n",
              " 1034.0,\n",
              " 1033.45,\n",
              " 1032.95,\n",
              " 1032.53,\n",
              " 1034.01,\n",
              " 1033.1,\n",
              " 1032.63,\n",
              " 1033.22,\n",
              " 1033.15,\n",
              " 1033.25,\n",
              " 1033.73,\n",
              " 1033.99,\n",
              " 1033.0,\n",
              " 1032.5,\n",
              " 1033.19,\n",
              " 1032.33,\n",
              " 1032.6]"
            ]
          },
          "metadata": {},
          "execution_count": 66
        }
      ]
    },
    {
      "cell_type": "code",
      "source": [
        "buy(1, symb)"
      ],
      "metadata": {
        "id": "eH6jGsjMuJRU"
      },
      "execution_count": null,
      "outputs": []
    },
    {
      "cell_type": "code",
      "source": [],
      "metadata": {
        "id": "QuKyfhXewzCT"
      },
      "execution_count": null,
      "outputs": []
    }
  ]
}